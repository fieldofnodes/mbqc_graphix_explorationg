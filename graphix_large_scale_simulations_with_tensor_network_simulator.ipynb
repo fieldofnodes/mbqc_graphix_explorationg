{
 "cells": [
  {
   "cell_type": "code",
   "execution_count": 1,
   "id": "f2855175",
   "metadata": {},
   "outputs": [],
   "source": [
    "import numpy as np\n",
    "from graphix import Circuit\n",
    "import networkx as nx\n",
    "\n",
    "\n",
    "def cp(circuit, theta, control, target):\n",
    "    circuit.rz(control, theta / 2)\n",
    "    circuit.rz(target, theta / 2)\n",
    "    circuit.cnot(control, target)\n",
    "    circuit.rz(target, -1 * theta / 2)\n",
    "    circuit.cnot(control, target)\n",
    "\n",
    "\n",
    "def swap(circuit, a, b):\n",
    "    circuit.cnot(a, b)\n",
    "    circuit.cnot(b, a)\n",
    "    circuit.cnot(a, b)\n",
    "\n",
    "\n",
    "def qft_rotations(circuit, n):\n",
    "    circuit.h(n)\n",
    "    for qubit in range(n + 1, circuit.width):\n",
    "        cp(circuit, np.pi / 2 ** (qubit - n), qubit, n)\n",
    "\n",
    "\n",
    "def swap_registers(circuit, n):\n",
    "    for qubit in range(n // 2):\n",
    "        swap(circuit, qubit, n - qubit - 1)\n",
    "    return circuit\n",
    "\n",
    "\n",
    "def qft(circuit, n):\n",
    "    for i in range(n):\n",
    "        qft_rotations(circuit, i)\n",
    "    swap_registers(circuit, n)"
   ]
  },
  {
   "cell_type": "code",
   "execution_count": 2,
   "id": "1e7db5eb",
   "metadata": {},
   "outputs": [
    {
     "name": "stdout",
     "output_type": "stream",
     "text": [
      "45-qubit QFT\n",
      "Number of nodes: 10167\n",
      "Number of edges: 12168\n"
     ]
    }
   ],
   "source": [
    "n = 45\n",
    "print(\"{}-qubit QFT\".format(n))\n",
    "circuit = Circuit(n)\n",
    "\n",
    "for i in range(n):\n",
    "    circuit.h(i)\n",
    "qft(circuit, n)\n",
    "\n",
    "# standardize pattern\n",
    "pattern = circuit.transpile()\n",
    "pattern.standardize()\n",
    "pattern.shift_signals()\n",
    "nodes, edges = pattern.get_graph()\n",
    "print(f\"Number of nodes: {len(nodes)}\")\n",
    "print(f\"Number of edges: {len(edges)}\")"
   ]
  },
  {
   "cell_type": "code",
   "execution_count": 3,
   "id": "26803683",
   "metadata": {},
   "outputs": [],
   "source": [
    "pattern.perform_pauli_measurements()\n"
   ]
  },
  {
   "cell_type": "code",
   "execution_count": 4,
   "id": "c8ddfe9a",
   "metadata": {},
   "outputs": [
    {
     "name": "stdout",
     "output_type": "stream",
     "text": [
      "amplitude of |00...0> is  2.8421709430400486e-14\n",
      "1/2^n (true answer) is 2.842170943040401e-14\n",
      "approximate execution time in seconds:  5.3418238162994385\n"
     ]
    }
   ],
   "source": [
    "import time\n",
    "t1 = time.time()\n",
    "tn = pattern.simulate_pattern(backend=\"tensornetwork\")\n",
    "value = tn.get_basis_amplitude(0)\n",
    "t2 = time.time()\n",
    "print(\"amplitude of |00...0> is \", value)\n",
    "print(\"1/2^n (true answer) is\", 1 / 2**n)\n",
    "print(\"approximate execution time in seconds: \", t2 - t1)"
   ]
  },
  {
   "cell_type": "code",
   "execution_count": null,
   "id": "287dc6ff",
   "metadata": {},
   "outputs": [],
   "source": []
  }
 ],
 "metadata": {
  "kernelspec": {
   "display_name": "Python 3 (ipykernel)",
   "language": "python",
   "name": "python3"
  },
  "language_info": {
   "codemirror_mode": {
    "name": "ipython",
    "version": 3
   },
   "file_extension": ".py",
   "mimetype": "text/x-python",
   "name": "python",
   "nbconvert_exporter": "python",
   "pygments_lexer": "ipython3",
   "version": "3.10.11"
  }
 },
 "nbformat": 4,
 "nbformat_minor": 5
}
