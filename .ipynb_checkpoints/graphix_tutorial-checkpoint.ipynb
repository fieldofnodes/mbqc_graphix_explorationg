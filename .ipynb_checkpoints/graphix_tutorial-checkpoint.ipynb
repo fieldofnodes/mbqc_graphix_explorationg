{
 "cells": [
  {
   "cell_type": "code",
   "execution_count": 1,
   "id": "21c8d432",
   "metadata": {},
   "outputs": [],
   "source": [
    "from graphix.transpiler import Circuit\n",
    "# apply H gate to a qubit in + state\n",
    "circuit = Circuit(1)\n",
    "circuit.h(0)\n",
    "pattern = circuit.transpile()"
   ]
  },
  {
   "cell_type": "code",
   "execution_count": 2,
   "id": "25b35de0",
   "metadata": {},
   "outputs": [
    {
     "name": "stdout",
     "output_type": "stream",
     "text": [
      "N, node = 0\n",
      "N, node = 1\n",
      "E, nodes = (0, 1)\n",
      "M, node = 0, plane = XY, angle(pi) = 0, s-domain = [], t_domain = []\n",
      "X byproduct, node = 1, domain = [0]\n"
     ]
    }
   ],
   "source": [
    "pattern.print_pattern()"
   ]
  },
  {
   "cell_type": "code",
   "execution_count": 3,
   "id": "82f8600a",
   "metadata": {},
   "outputs": [
    {
     "data": {
      "text/plain": [
       "Statevec, data=[1.+0.j 0.+0.j], shape=(2,)"
      ]
     },
     "execution_count": 3,
     "metadata": {},
     "output_type": "execute_result"
    }
   ],
   "source": [
    "pattern.simulate_pattern(backend='statevector')"
   ]
  },
  {
   "cell_type": "code",
   "execution_count": 4,
   "id": "d0e8314a",
   "metadata": {},
   "outputs": [],
   "source": [
    "from graphix.transpiler import Circuit\n",
    "import numpy as np\n",
    "circuit = Circuit(2) # initialize with |+> \\otimes |+>\n",
    "circuit.rz(0, np.random.rand())\n",
    "circuit.rz(1, np.random.rand())\n",
    "circuit.cnot(0, 1)\n",
    "pattern = circuit.transpile()"
   ]
  },
  {
   "cell_type": "code",
   "execution_count": 5,
   "id": "b465df42",
   "metadata": {},
   "outputs": [
    {
     "name": "stdout",
     "output_type": "stream",
     "text": [
      "N, node = 0\n",
      "N, node = 1\n",
      "N, node = 2\n",
      "N, node = 3\n",
      "E, nodes = (0, 2)\n",
      "E, nodes = (2, 3)\n",
      "M, node = 0, plane = XY, angle(pi) = -0.15412808819076376, s-domain = [], t_domain = []\n",
      "M, node = 2, plane = XY, angle(pi) = 0, s-domain = [], t_domain = []\n",
      "X byproduct, node = 3, domain = [2]\n",
      "Z byproduct, node = 3, domain = [0]\n",
      "N, node = 4\n",
      "N, node = 5\n",
      "E, nodes = (1, 4)\n",
      "E, nodes = (4, 5)\n",
      "M, node = 1, plane = XY, angle(pi) = -0.12157203799015819, s-domain = [], t_domain = []\n",
      "M, node = 4, plane = XY, angle(pi) = 0, s-domain = [], t_domain = []\n",
      "X byproduct, node = 5, domain = [4]\n",
      "Z byproduct, node = 5, domain = [1]\n",
      "N, node = 6\n",
      "N, node = 7\n",
      "E, nodes = (5, 6)\n",
      "E, nodes = (3, 6)\n",
      "E, nodes = (6, 7)\n",
      "M, node = 5, plane = XY, angle(pi) = 0, s-domain = [], t_domain = []\n",
      "M, node = 6, plane = XY, angle(pi) = 0, s-domain = [], t_domain = []\n",
      "X byproduct, node = 7, domain = [6]\n",
      "Z byproduct, node = 7, domain = [5]\n",
      "Z byproduct, node = 3, domain = [5]\n"
     ]
    }
   ],
   "source": [
    "pattern.print_pattern()"
   ]
  },
  {
   "cell_type": "code",
   "execution_count": 6,
   "id": "499e122d",
   "metadata": {},
   "outputs": [
    {
     "name": "stdout",
     "output_type": "stream",
     "text": [
      "N, node = 0\n",
      "N, node = 1\n",
      "N, node = 2\n",
      "N, node = 3\n",
      "N, node = 4\n",
      "N, node = 5\n",
      "N, node = 6\n",
      "N, node = 7\n",
      "E, nodes = (0, 2)\n",
      "E, nodes = (2, 3)\n",
      "E, nodes = (1, 4)\n",
      "E, nodes = (4, 5)\n",
      "E, nodes = (5, 6)\n",
      "E, nodes = (6, 3)\n",
      "E, nodes = (6, 7)\n",
      "M, node = 0, plane = XY, angle(pi) = -0.15412808819076376, s-domain = [], t_domain = []\n",
      "M, node = 2, plane = XY, angle(pi) = 0, s-domain = [], t_domain = []\n",
      "M, node = 1, plane = XY, angle(pi) = -0.12157203799015819, s-domain = [], t_domain = []\n",
      "M, node = 4, plane = XY, angle(pi) = 0, s-domain = [], t_domain = []\n",
      "M, node = 5, plane = XY, angle(pi) = 0, s-domain = [4], t_domain = []\n",
      "M, node = 6, plane = XY, angle(pi) = 0, s-domain = [], t_domain = []\n",
      "X byproduct, node = 3, domain = [2]\n",
      "X byproduct, node = 7, domain = [2, 4, 6]\n",
      "Z byproduct, node = 3, domain = [0, 1, 5]\n",
      "Z byproduct, node = 7, domain = [1, 5]\n"
     ]
    }
   ],
   "source": [
    "pattern.standardize()\n",
    "pattern.shift_signals()\n",
    "pattern.print_pattern()"
   ]
  },
  {
   "cell_type": "code",
   "execution_count": 8,
   "id": "0212e6e0",
   "metadata": {},
   "outputs": [],
   "source": [
    "import networkx as nx"
   ]
  },
  {
   "cell_type": "code",
   "execution_count": 9,
   "id": "5aa3b3fe",
   "metadata": {},
   "outputs": [],
   "source": [
    "nodes, edges = pattern.get_graph()\n"
   ]
  },
  {
   "cell_type": "code",
   "execution_count": 10,
   "id": "c88cc5ca",
   "metadata": {},
   "outputs": [],
   "source": [
    "g = nx.Graph()\n"
   ]
  },
  {
   "cell_type": "code",
   "execution_count": 11,
   "id": "4aae4d62",
   "metadata": {},
   "outputs": [],
   "source": [
    "g.add_nodes_from(nodes)\n"
   ]
  },
  {
   "cell_type": "code",
   "execution_count": 12,
   "id": "d4c3211e",
   "metadata": {},
   "outputs": [],
   "source": [
    "g.add_edges_from(edges)\n"
   ]
  },
  {
   "cell_type": "code",
   "execution_count": 13,
   "id": "b731282b",
   "metadata": {},
   "outputs": [],
   "source": [
    "pos = {0: (0, 0), 1: (0, -0.5), 2: (1, 0), 3: (4, 0), 4: (1, -0.5), 5: (2, -0.5), 6: (3, -0.5), 7: (4, -0.5)}\n"
   ]
  },
  {
   "cell_type": "code",
   "execution_count": 14,
   "id": "1368b62e",
   "metadata": {},
   "outputs": [],
   "source": [
    "graph_params = {'node_size': 240, 'node_color': 'w', 'edgecolors': 'k', 'with_labels': True}\n"
   ]
  },
  {
   "cell_type": "code",
   "execution_count": 16,
   "id": "681eee26",
   "metadata": {},
   "outputs": [
    {
     "data": {
      "image/png": "[encoded data removed]",
      "text/plain": [
       "<Figure size 640x480 with 1 Axes>"
      ]
     },
     "metadata": {},
     "output_type": "display_data"
    }
   ],
   "source": [
    "nx.draw(g, pos=pos, **graph_params)"
   ]
  },
  {
   "cell_type": "code",
   "execution_count": 17,
   "id": "ca0bc030",
   "metadata": {},
   "outputs": [],
   "source": [
    "pattern.perform_pauli_measurements()"
   ]
  },
  {
   "cell_type": "code",
   "execution_count": 18,
   "id": "40b7ec90",
   "metadata": {},
   "outputs": [
    {
     "name": "stdout",
     "output_type": "stream",
     "text": [
      "N, node = 0\n",
      "N, node = 1\n",
      "N, node = 3\n",
      "N, node = 7\n",
      "E, nodes = (0, 3)\n",
      "E, nodes = (1, 3)\n",
      "E, nodes = (1, 7)\n",
      "M, node = 0, plane = XY, angle(pi) = -0.15412808819076376, s-domain = [], t_domain = [], Clifford index = 6\n",
      "M, node = 1, plane = XY, angle(pi) = -0.12157203799015819, s-domain = [], t_domain = [], Clifford index = 6\n",
      "X byproduct, node = 3, domain = [2]\n",
      "X byproduct, node = 7, domain = [2, 4, 6]\n",
      "Z byproduct, node = 3, domain = [0, 1, 5]\n",
      "Z byproduct, node = 7, domain = [1, 5]\n"
     ]
    }
   ],
   "source": [
    "pattern.print_pattern()"
   ]
  },
  {
   "cell_type": "code",
   "execution_count": null,
   "id": "118373fa",
   "metadata": {},
   "outputs": [],
   "source": []
  }
 ],
 "metadata": {
  "kernelspec": {
   "display_name": "Python 3 (ipykernel)",
   "language": "python",
   "name": "python3"
  },
  "language_info": {
   "codemirror_mode": {
    "name": "ipython",
    "version": 3
   },
   "file_extension": ".py",
   "mimetype": "text/x-python",
   "name": "python",
   "nbconvert_exporter": "python",
   "pygments_lexer": "ipython3",
   "version": "3.10.11"
  }
 },
 "nbformat": 4,
 "nbformat_minor": 5
}
