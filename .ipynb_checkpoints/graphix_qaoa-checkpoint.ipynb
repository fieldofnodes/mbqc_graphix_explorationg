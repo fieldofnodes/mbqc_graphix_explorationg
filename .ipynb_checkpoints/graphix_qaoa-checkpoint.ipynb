{
 "cells": [
  {
   "cell_type": "code",
   "execution_count": null,
   "id": "374ed76e",
   "metadata": {},
   "outputs": [],
   "source": [
    "from graphix import Circuit\n",
    "import networkx as nx\n",
    "import numpy as np\n",
    "import matplotlib.pyplot as plt\n",
    "\n",
    "n = 4\n",
    "xi = np.random.rand(6)\n",
    "theta = np.random.rand(4)\n",
    "g = nx.complete_graph(n)\n",
    "circuit = Circuit(n)\n",
    "for i, (u, v) in enumerate(g.edges):\n",
    "    circuit.cnot(u, v)\n",
    "    circuit.rz(v, xi[i])\n",
    "    circuit.cnot(u, v)\n",
    "for v in g.nodes:\n",
    "    circuit.rx(v, theta[v])"
   ]
  }
 ],
 "metadata": {
  "kernelspec": {
   "display_name": "Python 3 (ipykernel)",
   "language": "python",
   "name": "python3"
  },
  "language_info": {
   "codemirror_mode": {
    "name": "ipython",
    "version": 3
   },
   "file_extension": ".py",
   "mimetype": "text/x-python",
   "name": "python",
   "nbconvert_exporter": "python",
   "pygments_lexer": "ipython3",
   "version": "3.10.11"
  }
 },
 "nbformat": 4,
 "nbformat_minor": 5
}
